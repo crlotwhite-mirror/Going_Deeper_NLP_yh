{
 "cells": [
  {
   "cell_type": "code",
   "execution_count": 1,
   "id": "6aa6bca8",
   "metadata": {},
   "outputs": [
    {
     "name": "stdout",
     "output_type": "stream",
     "text": [
      "2.6.0\n",
      "1.21.4\n",
      "0.5.2\n"
     ]
    }
   ],
   "source": [
    "import tensorflow as tf\n",
    "import numpy as np\n",
    "# import matplotlib as plt.\n",
    "import matplotlib.pyplot as plt\n",
    "\n",
    "import konlpy\n",
    "import pandas as pd\n",
    "from konlpy.tag import Mecab\n",
    "from collections import Counter\n",
    "print(tf.__version__)\n",
    "print(np.__version__)\n",
    "# print(plt.__version__)\n",
    "print(konlpy.__version__)"
   ]
  },
  {
   "cell_type": "code",
   "execution_count": 2,
   "id": "4ccb8b6a",
   "metadata": {},
   "outputs": [],
   "source": [
    "tokenizer = Mecab() #형태소분석기는 보통 전역변수처럼 사용한다.\n",
    "#불용어 프로그램적으로 컨트롤하지 않을 계획으로 전역변수로 사용한다.\n",
    "stopwords = ['의','가','이','은','들','는','좀','잘','걍','과','도','를','으로','자','에','와','한','하다', '다']\n"
   ]
  },
  {
   "cell_type": "code",
   "execution_count": 3,
   "id": "f38d4f72",
   "metadata": {
    "scrolled": true
   },
   "outputs": [
    {
     "data": {
      "text/html": [
       "<div>\n",
       "<style scoped>\n",
       "    .dataframe tbody tr th:only-of-type {\n",
       "        vertical-align: middle;\n",
       "    }\n",
       "\n",
       "    .dataframe tbody tr th {\n",
       "        vertical-align: top;\n",
       "    }\n",
       "\n",
       "    .dataframe thead th {\n",
       "        text-align: right;\n",
       "    }\n",
       "</style>\n",
       "<table border=\"1\" class=\"dataframe\">\n",
       "  <thead>\n",
       "    <tr style=\"text-align: right;\">\n",
       "      <th></th>\n",
       "      <th>id</th>\n",
       "      <th>document</th>\n",
       "      <th>label</th>\n",
       "    </tr>\n",
       "  </thead>\n",
       "  <tbody>\n",
       "    <tr>\n",
       "      <th>0</th>\n",
       "      <td>9976970</td>\n",
       "      <td>아 더빙.. 진짜 짜증나네요 목소리</td>\n",
       "      <td>0</td>\n",
       "    </tr>\n",
       "    <tr>\n",
       "      <th>1</th>\n",
       "      <td>3819312</td>\n",
       "      <td>흠...포스터보고 초딩영화줄....오버연기조차 가볍지 않구나</td>\n",
       "      <td>1</td>\n",
       "    </tr>\n",
       "    <tr>\n",
       "      <th>2</th>\n",
       "      <td>10265843</td>\n",
       "      <td>너무재밓었다그래서보는것을추천한다</td>\n",
       "      <td>0</td>\n",
       "    </tr>\n",
       "    <tr>\n",
       "      <th>3</th>\n",
       "      <td>9045019</td>\n",
       "      <td>교도소 이야기구먼 ..솔직히 재미는 없다..평점 조정</td>\n",
       "      <td>0</td>\n",
       "    </tr>\n",
       "    <tr>\n",
       "      <th>4</th>\n",
       "      <td>6483659</td>\n",
       "      <td>사이몬페그의 익살스런 연기가 돋보였던 영화!스파이더맨에서 늙어보이기만 했던 커스틴 ...</td>\n",
       "      <td>1</td>\n",
       "    </tr>\n",
       "    <tr>\n",
       "      <th>5</th>\n",
       "      <td>5403919</td>\n",
       "      <td>막 걸음마 뗀 3세부터 초등학교 1학년생인 8살용영화.ㅋㅋㅋ...별반개도 아까움.</td>\n",
       "      <td>0</td>\n",
       "    </tr>\n",
       "    <tr>\n",
       "      <th>6</th>\n",
       "      <td>7797314</td>\n",
       "      <td>원작의 긴장감을 제대로 살려내지못했다.</td>\n",
       "      <td>0</td>\n",
       "    </tr>\n",
       "    <tr>\n",
       "      <th>7</th>\n",
       "      <td>9443947</td>\n",
       "      <td>별 반개도 아깝다 욕나온다 이응경 길용우 연기생활이몇년인지..정말 발로해도 그것보단...</td>\n",
       "      <td>0</td>\n",
       "    </tr>\n",
       "    <tr>\n",
       "      <th>8</th>\n",
       "      <td>7156791</td>\n",
       "      <td>액션이 없는데도 재미 있는 몇안되는 영화</td>\n",
       "      <td>1</td>\n",
       "    </tr>\n",
       "    <tr>\n",
       "      <th>9</th>\n",
       "      <td>5912145</td>\n",
       "      <td>왜케 평점이 낮은건데? 꽤 볼만한데.. 헐리우드식 화려함에만 너무 길들여져 있나?</td>\n",
       "      <td>1</td>\n",
       "    </tr>\n",
       "  </tbody>\n",
       "</table>\n",
       "</div>"
      ],
      "text/plain": [
       "         id                                           document  label\n",
       "0   9976970                                아 더빙.. 진짜 짜증나네요 목소리      0\n",
       "1   3819312                  흠...포스터보고 초딩영화줄....오버연기조차 가볍지 않구나      1\n",
       "2  10265843                                  너무재밓었다그래서보는것을추천한다      0\n",
       "3   9045019                      교도소 이야기구먼 ..솔직히 재미는 없다..평점 조정      0\n",
       "4   6483659  사이몬페그의 익살스런 연기가 돋보였던 영화!스파이더맨에서 늙어보이기만 했던 커스틴 ...      1\n",
       "5   5403919      막 걸음마 뗀 3세부터 초등학교 1학년생인 8살용영화.ㅋㅋㅋ...별반개도 아까움.      0\n",
       "6   7797314                              원작의 긴장감을 제대로 살려내지못했다.      0\n",
       "7   9443947  별 반개도 아깝다 욕나온다 이응경 길용우 연기생활이몇년인지..정말 발로해도 그것보단...      0\n",
       "8   7156791                             액션이 없는데도 재미 있는 몇안되는 영화      1\n",
       "9   5912145      왜케 평점이 낮은건데? 꽤 볼만한데.. 헐리우드식 화려함에만 너무 길들여져 있나?      1"
      ]
     },
     "execution_count": 3,
     "metadata": {},
     "output_type": "execute_result"
    }
   ],
   "source": [
    "# 데이터를 읽어봅시다. \n",
    "train_data = pd.read_table('~/aiffel/sp_tokenizer/data/ratings_train.txt')\n",
    "test_data = pd.read_table('~/aiffel/sp_tokenizer/data/ratings_test.txt')\n",
    "\n",
    "train_data.head(10)"
   ]
  },
  {
   "cell_type": "code",
   "execution_count": 4,
   "id": "81b3be8f",
   "metadata": {},
   "outputs": [
    {
     "name": "stdout",
     "output_type": "stream",
     "text": [
      "잘자\n",
      "가자\n"
     ]
    }
   ],
   "source": [
    "def load_data(train_data, test_data, num_words=10000):\n",
    "    train_data.drop_duplicates(subset=['document'], inplace=True)\n",
    "    train_data = train_data[train_data['document'].str.strip() != '']\n",
    "    train_data = train_data[~train_data['document'].isin(stopwords) ]\n",
    "    train_data = train_data.dropna(how = 'any') \n",
    "    test_data.drop_duplicates(subset=['document'], inplace=True)\n",
    "    test_data = test_data[test_data['document'].str.strip() != '']\n",
    "    test_data = test_data[~test_data['document'].isin(stopwords) ]\n",
    "#     test_data = test_data[test_data['document'].str.strip() not in stopwords]\n",
    "    test_data = test_data.dropna(how = 'any') \n",
    "    \n",
    "    X_train = []\n",
    "    for sentence in train_data['document']:\n",
    "        temp_X = tokenizer.morphs(sentence)  # 토큰화\n",
    "#         tagging = tokenizer.pos(sentence) # 형태소 분석\n",
    "#         temp_X = [t[0] for t in tagging if ('V' in t[1] or 'N' in t[1]) and 'UNKNOWN' not in t[1] and len(t[0])>1] #형태소 분석 결과 중 명사/동사/형용사와 같은 의미있는 단어만 선택 \n",
    "#         temp_X = [t[0] for t in tagging if 'UNKNOWN' not in t[1] and len(t[0])>1]\n",
    "        temp_X = [word for word in temp_X if not word in stopwords] # 불용어 제거\n",
    "        if len(temp_X) ==0 :\n",
    "            print(sentence)\n",
    "        X_train.append(temp_X)\n",
    "\n",
    "    X_test = []\n",
    "    for sentence in test_data['document']:\n",
    "        temp_X = tokenizer.morphs(sentence) # 토큰화\n",
    "#         tagging = tokenizer.pos(sentence) # 형태소 분석\n",
    "#         temp_X = [t[0] for t in tagging if ('V' in t[1] or 'N' in t[1]) and 'UNKNOWN' not in t[1] and len(t[0])>1] #형태소 분석 결과 중 명사/동사/형용사와 같은 의미있는 단어만 선택\n",
    "#         temp_X = [t[0] for t in tagging if 'UNKNOWN' not in t[1] and len(t[0])>1]\n",
    "        temp_X = [word for word in temp_X if not word in stopwords] # 불용어 제거\n",
    "        X_test.append(temp_X)\n",
    "    \n",
    "    words = np.concatenate(X_train).tolist()\n",
    "    counter = Counter(words)\n",
    "    counter = counter.most_common(10000-4)\n",
    "    vocab = ['<PAD>', '<BOS>', '<UNK>', '<UNUSED>'] + [key for key, _ in counter]\n",
    "    word_to_index = {word:index for index, word in enumerate(vocab)}\n",
    "        \n",
    "    def wordlist_to_indexlist(wordlist):\n",
    "        return [word_to_index['<BOS>']]+[word_to_index[word] if word in word_to_index else word_to_index['<UNK>'] for word in wordlist]\n",
    "    X_train = list(map(wordlist_to_indexlist, X_train))\n",
    "    X_test = list(map(wordlist_to_indexlist, X_test))\n",
    "        \n",
    "    return X_train, np.array(list(train_data['label'])), X_test, np.array(list(test_data['label'])), word_to_index, {index:word for word, index in word_to_index.items()}\n",
    "\n",
    "    \n",
    "X_train, y_train, X_test, y_test, word_to_index, index_to_word = load_data(train_data, test_data)"
   ]
  },
  {
   "cell_type": "code",
   "execution_count": null,
   "id": "1399148a",
   "metadata": {},
   "outputs": [],
   "source": []
  },
  {
   "cell_type": "code",
   "execution_count": null,
   "id": "38b78d42",
   "metadata": {},
   "outputs": [],
   "source": []
  },
  {
   "cell_type": "code",
   "execution_count": 5,
   "id": "821c5fa6",
   "metadata": {},
   "outputs": [],
   "source": [
    "# 문장 1개를 활용할 딕셔너리와 함께 주면, 단어 인덱스 리스트 벡터로 변환해 주는 함수입니다. \n",
    "# 단, 모든 문장은 <BOS>로 시작하는 것으로 합니다. \n",
    "def get_encoded_sentence(sentence, word_to_index):\n",
    "    return [word_to_index['<BOS>']]+[word_to_index[word] if word in word_to_index else word_to_index['<UNK>'] for word in sentence.split()]\n",
    "\n",
    "# 여러 개의 문장 리스트를 한꺼번에 단어 인덱스 리스트 벡터로 encode해 주는 함수입니다. \n",
    "def get_encoded_sentences(sentences, word_to_index):\n",
    "    return [get_encoded_sentence(sentence, word_to_index) for sentence in sentences]\n",
    "\n",
    "# 숫자 벡터로 encode된 문장을 원래대로 decode하는 함수입니다. \n",
    "def get_decoded_sentence(encoded_sentence, index_to_word):\n",
    "    return ' '.join(index_to_word[index] if index in index_to_word else '<UNK>' for index in encoded_sentence[1:])  #[1:]를 통해 <BOS>를 제외\n",
    "\n",
    "# 여러 개의 숫자 벡터로 encode된 문장을 한꺼번에 원래대로 decode하는 함수입니다. \n",
    "def get_decoded_sentences(encoded_sentences, index_to_word):\n",
    "    return [get_decoded_sentence(encoded_sentence, index_to_word) for encoded_sentence in encoded_sentences]\n"
   ]
  },
  {
   "cell_type": "code",
   "execution_count": 6,
   "id": "18a17c28",
   "metadata": {
    "scrolled": true
   },
   "outputs": [
    {
     "name": "stdout",
     "output_type": "stream",
     "text": [
      "문장길이 평균 :  16.593177908834008\n",
      "문장길이 최대 :  117\n",
      "문장길이 최소 :  1\n",
      "문장길이 표준편차 :  12.626668696164671\n",
      "pad_sequences maxlen :  54\n",
      "전체 문장의 0.9724423557357579%가 maxlen 설정값 이내에 포함됩니다. \n"
     ]
    }
   ],
   "source": [
    "total_data_text = list(X_train) + list(X_test)\n",
    "# 텍스트데이터 문장길이의 리스트를 생성한 후\n",
    "num_tokens = [len(tokens) for tokens in total_data_text]\n",
    "num_tokens = np.array(num_tokens)\n",
    "# 문장길이의 평균값, 최대값, 표준편차를 계산해 본다. \n",
    "print('문장길이 평균 : ', np.mean(num_tokens))\n",
    "print('문장길이 최대 : ', np.max(num_tokens))\n",
    "print('문장길이 최소 : ', np.min(num_tokens))\n",
    "print('문장길이 표준편차 : ', np.std(num_tokens))\n",
    "\n",
    "# 예를들어, 최대 길이를 (평균 + 2*표준편차)로 한다면,  \n",
    "max_tokens = np.mean(num_tokens) + 3.0* np.std(num_tokens)\n",
    "maxlen = int(max_tokens)\n",
    "print('pad_sequences maxlen : ', maxlen)\n",
    "print(f'전체 문장의 {np.sum(num_tokens < max_tokens) / len(num_tokens)}%가 maxlen 설정값 이내에 포함됩니다. ')"
   ]
  },
  {
   "cell_type": "code",
   "execution_count": 7,
   "id": "947cc66b",
   "metadata": {},
   "outputs": [
    {
     "name": "stdout",
     "output_type": "stream",
     "text": [
      "문장길이 평균 :  16.41249436867756\n",
      "문장길이 최대 :  54\n",
      "문장길이 최소 :  1\n",
      "문장길이 표준편차 :  12.000770925940937\n"
     ]
    }
   ],
   "source": [
    "X_train = [row[-maxlen:] if len(row) > maxlen else row for row in X_train]\n",
    "X_test = [row[-maxlen:] if len(row) > maxlen else row for row in X_test]\n",
    "total_data_text = list(X_train) + list(X_test)\n",
    "# 텍스트데이터 문장길이의 리스트를 생성한 후\n",
    "num_tokens = [len(tokens) for tokens in total_data_text]\n",
    "num_tokens = np.array(num_tokens)\n",
    "# 문장길이의 평균값, 최대값, 표준편차를 계산해 본다. \n",
    "print('문장길이 평균 : ', np.mean(num_tokens))\n",
    "print('문장길이 최대 : ', np.max(num_tokens))\n",
    "print('문장길이 최소 : ', np.min(num_tokens))\n",
    "print('문장길이 표준편차 : ', np.std(num_tokens))"
   ]
  },
  {
   "cell_type": "code",
   "execution_count": 8,
   "id": "807d1c7e",
   "metadata": {},
   "outputs": [],
   "source": [
    "X_train = tf.keras.preprocessing.sequence.pad_sequences(X_train,\n",
    "                                                        value=word_to_index[\"<PAD>\"],\n",
    "                                                        padding='pre', # 혹은 'pre'\n",
    "                                                        maxlen=maxlen)\n",
    "\n",
    "X_test = tf.keras.preprocessing.sequence.pad_sequences(X_test,\n",
    "                                                       value=word_to_index[\"<PAD>\"],\n",
    "                                                       padding='pre', # 혹은 'pre'\n",
    "                                                       maxlen=maxlen)"
   ]
  },
  {
   "cell_type": "code",
   "execution_count": 9,
   "id": "0997d071",
   "metadata": {},
   "outputs": [],
   "source": [
    "#중복코드 제거용\n",
    "def modelFitTemp(model,X_train,y_train,epochs=20) :\n",
    "    # validation set 분리\n",
    "    x_val = X_train[:len(X_train)//7]   \n",
    "    y_val = y_train[:len(X_train)//7]\n",
    "\n",
    "    # validation set을 제외한 나머지 \n",
    "    partial_x_train = X_train[len(X_train)//7:]  \n",
    "    partial_y_train = y_train[len(X_train)//7:]\n",
    "    model.compile(optimizer='adam',\n",
    "                  loss='binary_crossentropy',\n",
    "                  metrics=['accuracy'])\n",
    "\n",
    "    epochs=epochs  # 몇 epoch를 훈련하면 좋을지 결과를 보면서 바꾸어 봅시다. \n",
    "    callbacks = [\n",
    "        tf.keras.callbacks.EarlyStopping(\n",
    "            monitor=\"val_loss\",\n",
    "            patience=3,\n",
    "            restore_best_weights=True\n",
    "        )\n",
    "    ]\n",
    "    history = model.fit(partial_x_train,\n",
    "                        partial_y_train,\n",
    "                        epochs=epochs,\n",
    "                        batch_size=512,\n",
    "                        validation_data=(x_val, y_val),\n",
    "                        verbose=1,\n",
    "                       callbacks=callbacks)\n",
    "    return history"
   ]
  },
  {
   "cell_type": "code",
   "execution_count": 10,
   "id": "430241f3",
   "metadata": {},
   "outputs": [],
   "source": [
    "#epochs에 따른 loss acc 시각화\n",
    "def drawLossAccuracy(history) :\n",
    "    acc = history.history['accuracy']\n",
    "    val_acc = history.history['val_accuracy']\n",
    "    loss = history.history['loss']\n",
    "    val_loss = history.history['val_loss']\n",
    "\n",
    "    epochs = range(1, len(acc) + 1)\n",
    "#     plt.figure(figsize=(20, 20))\n",
    "\n",
    "    # \"bo\"는 \"파란색 점\"입니다\n",
    "    plt.plot(epochs, loss, 'bo', label='Training loss')\n",
    "    # b는 \"파란 실선\"입니다\n",
    "    plt.plot(epochs, val_loss, 'b', label='Validation loss')\n",
    "    plt.title('Training and validation loss')\n",
    "    plt.xlabel('Epochs')\n",
    "    plt.ylabel('Loss')\n",
    "    plt.legend()\n",
    "\n",
    "    plt.show()\n",
    "    plt.clf()   # 그림을 초기화합니다\n",
    "#     plt.figure(figsize=(20, 20))\n",
    "    plt.plot(epochs, acc, 'bo', label='Training acc')\n",
    "    plt.plot(epochs, val_acc, 'b', label='Validation acc')\n",
    "    plt.title('Training and validation accuracy')\n",
    "    plt.xlabel('Epochs')\n",
    "    plt.ylabel('Accuracy')\n",
    "    plt.legend()\n",
    "\n",
    "    plt.show()\n",
    "\n",
    "# drawLossAccuracy(history)"
   ]
  },
  {
   "cell_type": "code",
   "execution_count": 11,
   "id": "b68cd1ce",
   "metadata": {
    "scrolled": true
   },
   "outputs": [
    {
     "name": "stdout",
     "output_type": "stream",
     "text": [
      "Model: \"sequential\"\n",
      "_________________________________________________________________\n",
      "Layer (type)                 Output Shape              Param #   \n",
      "=================================================================\n",
      "embedding (Embedding)        (None, None, 16)          160000    \n",
      "_________________________________________________________________\n",
      "bidirectional (Bidirectional (None, 1024)              2166784   \n",
      "_________________________________________________________________\n",
      "dense (Dense)                (None, 256)               262400    \n",
      "_________________________________________________________________\n",
      "dropout (Dropout)            (None, 256)               0         \n",
      "_________________________________________________________________\n",
      "dense_1 (Dense)              (None, 64)                16448     \n",
      "_________________________________________________________________\n",
      "dropout_1 (Dropout)          (None, 64)                0         \n",
      "_________________________________________________________________\n",
      "dense_2 (Dense)              (None, 16)                1040      \n",
      "_________________________________________________________________\n",
      "dense_3 (Dense)              (None, 1)                 17        \n",
      "=================================================================\n",
      "Total params: 2,606,689\n",
      "Trainable params: 2,606,689\n",
      "Non-trainable params: 0\n",
      "_________________________________________________________________\n"
     ]
    }
   ],
   "source": [
    "vocab_size = 10000    # 어휘 사전의 크기입니다(10,000개의 단어)\n",
    "word_vector_dim = 16  # 워드 벡터의 차원 수 (변경 가능한 하이퍼파라미터)\n",
    "\n",
    "# model 설계 - 딥러닝 모델 코드를 직접 작성해 주세요.\n",
    "modelLSTM = tf.keras.Sequential()\n",
    "modelLSTM.add(tf.keras.layers.Embedding(vocab_size, word_vector_dim, input_shape=(None,)))\n",
    "modelLSTM.add(tf.keras.layers.Bidirectional(tf.keras.layers.LSTM(512)))   # 가장 널리 쓰이는 RNN인 LSTM 레이어를 사용하였습니다. 이때 LSTM state 벡터의 차원수는 8로 하였습니다. (변경 가능)\n",
    "modelLSTM.add(tf.keras.layers.Dense(256, activation='relu'))\n",
    "modelLSTM.add(tf.keras.layers.Dropout(0.5))\n",
    "modelLSTM.add(tf.keras.layers.Dense(64, activation='relu'))\n",
    "modelLSTM.add(tf.keras.layers.Dropout(0.5))\n",
    "modelLSTM.add(tf.keras.layers.Dense(16, activation='relu'))\n",
    "modelLSTM.add(tf.keras.layers.Dense(1, activation='sigmoid'))  # 최종 출력은 긍정/부정을 나타내는 1dim 입니다.\n",
    "\n",
    "\n",
    "modelLSTM.summary()"
   ]
  },
  {
   "cell_type": "code",
   "execution_count": 12,
   "id": "0b7efbc1",
   "metadata": {},
   "outputs": [
    {
     "name": "stdout",
     "output_type": "stream",
     "text": [
      "Epoch 1/20\n",
      "245/245 [==============================] - 39s 143ms/step - loss: 0.4964 - accuracy: 0.7609 - val_loss: 0.3535 - val_accuracy: 0.8472\n",
      "Epoch 2/20\n",
      "245/245 [==============================] - 33s 137ms/step - loss: 0.3448 - accuracy: 0.8571 - val_loss: 0.3518 - val_accuracy: 0.8481\n",
      "Epoch 3/20\n",
      "245/245 [==============================] - 33s 137ms/step - loss: 0.3246 - accuracy: 0.8659 - val_loss: 0.3474 - val_accuracy: 0.8509\n",
      "Epoch 4/20\n",
      "245/245 [==============================] - 34s 138ms/step - loss: 0.3070 - accuracy: 0.8731 - val_loss: 0.3510 - val_accuracy: 0.8505\n",
      "Epoch 5/20\n",
      "245/245 [==============================] - 34s 137ms/step - loss: 0.2897 - accuracy: 0.8795 - val_loss: 0.3498 - val_accuracy: 0.8503\n",
      "Epoch 6/20\n",
      "245/245 [==============================] - 34s 138ms/step - loss: 0.2697 - accuracy: 0.8873 - val_loss: 0.3650 - val_accuracy: 0.8546\n",
      "1537/1537 - 10s - loss: 0.3563 - accuracy: 0.8461\n",
      "[0.3563203811645508, 0.8460583686828613]\n"
     ]
    }
   ],
   "source": [
    "history = modelFitTemp(modelLSTM,X_train,y_train,epochs=20)\n",
    "print(modelLSTM.evaluate(X_test,  y_test, verbose=2))"
   ]
  },
  {
   "cell_type": "code",
   "execution_count": 13,
   "id": "b8390573",
   "metadata": {},
   "outputs": [
    {
     "name": "stderr",
     "output_type": "stream",
     "text": [
      "sentencepiece_trainer.cc(177) LOG(INFO) Running command: --input=/aiffel/aiffel/sp_tokenizer/data/ratings_train.temp --model_prefix=korean_spm --vocab_size=8000\n",
      "sentencepiece_trainer.cc(77) LOG(INFO) Starts training with : \n",
      "trainer_spec {\n",
      "  input: /aiffel/aiffel/sp_tokenizer/data/ratings_train.temp\n",
      "  input_format: \n",
      "  model_prefix: korean_spm\n",
      "  model_type: UNIGRAM\n",
      "  vocab_size: 8000\n",
      "  self_test_sample_size: 0\n",
      "  character_coverage: 0.9995\n",
      "  input_sentence_size: 0\n",
      "  shuffle_input_sentence: 1\n",
      "  seed_sentencepiece_size: 1000000\n",
      "  shrinking_factor: 0.75\n",
      "  max_sentence_length: 4192\n",
      "  num_threads: 16\n",
      "  num_sub_iterations: 2\n",
      "  max_sentencepiece_length: 16\n",
      "  split_by_unicode_script: 1\n",
      "  split_by_number: 1\n",
      "  split_by_whitespace: 1\n",
      "  split_digits: 0\n",
      "  treat_whitespace_as_suffix: 0\n",
      "  allow_whitespace_only_pieces: 0\n",
      "  required_chars: \n",
      "  byte_fallback: 0\n",
      "  vocabulary_output_piece_score: 1\n",
      "  train_extremely_large_corpus: 0\n",
      "  hard_vocab_limit: 1\n",
      "  use_all_vocab: 0\n",
      "  unk_id: 0\n",
      "  bos_id: 1\n",
      "  eos_id: 2\n",
      "  pad_id: -1\n",
      "  unk_piece: <unk>\n",
      "  bos_piece: <s>\n",
      "  eos_piece: </s>\n",
      "  pad_piece: <pad>\n",
      "  unk_surface:  ⁇ \n",
      "}\n",
      "normalizer_spec {\n",
      "  name: nmt_nfkc\n",
      "  add_dummy_prefix: 1\n",
      "  remove_extra_whitespaces: 1\n",
      "  escape_whitespaces: 1\n",
      "  normalization_rule_tsv: \n",
      "}\n",
      "denormalizer_spec {}\n",
      "trainer_interface.cc(329) LOG(INFO) SentenceIterator is not specified. Using MultiFileSentenceIterator.\n",
      "trainer_interface.cc(178) LOG(INFO) Loading corpus: /aiffel/aiffel/sp_tokenizer/data/ratings_train.temp\n",
      "trainer_interface.cc(385) LOG(INFO) Loaded all 146183 sentences\n",
      "trainer_interface.cc(400) LOG(INFO) Adding meta_piece: <unk>\n",
      "trainer_interface.cc(400) LOG(INFO) Adding meta_piece: <s>\n",
      "trainer_interface.cc(400) LOG(INFO) Adding meta_piece: </s>\n",
      "trainer_interface.cc(405) LOG(INFO) Normalizing sentences...\n",
      "trainer_interface.cc(466) LOG(INFO) all chars count=5406071\n",
      "trainer_interface.cc(477) LOG(INFO) Done: 99.95% characters are covered.\n",
      "trainer_interface.cc(487) LOG(INFO) Alphabet size=1713\n",
      "trainer_interface.cc(488) LOG(INFO) Final character coverage=0.9995\n",
      "trainer_interface.cc(520) LOG(INFO) Done! preprocessed 146183 sentences.\n",
      "unigram_model_trainer.cc(139) LOG(INFO) Making suffix array...\n",
      "unigram_model_trainer.cc(143) LOG(INFO) Extracting frequent sub strings...\n",
      "unigram_model_trainer.cc(194) LOG(INFO) Initialized 309137 seed sentencepieces\n",
      "trainer_interface.cc(526) LOG(INFO) Tokenizing input sentences with whitespace: 146183\n",
      "trainer_interface.cc(537) LOG(INFO) Done! 357583\n",
      "unigram_model_trainer.cc(489) LOG(INFO) Using 357583 sentences for EM training\n",
      "unigram_model_trainer.cc(505) LOG(INFO) EM sub_iter=0 size=157918 obj=15.4579 num_tokens=843024 num_tokens/piece=5.33837\n",
      "unigram_model_trainer.cc(505) LOG(INFO) EM sub_iter=1 size=146135 obj=14.3908 num_tokens=848364 num_tokens/piece=5.80534\n",
      "unigram_model_trainer.cc(505) LOG(INFO) EM sub_iter=0 size=109538 obj=14.4882 num_tokens=883799 num_tokens/piece=8.06842\n",
      "unigram_model_trainer.cc(505) LOG(INFO) EM sub_iter=1 size=109359 obj=14.4325 num_tokens=884576 num_tokens/piece=8.08874\n",
      "unigram_model_trainer.cc(505) LOG(INFO) EM sub_iter=0 size=82017 obj=14.6691 num_tokens=928637 num_tokens/piece=11.3225\n",
      "unigram_model_trainer.cc(505) LOG(INFO) EM sub_iter=1 size=82006 obj=14.6077 num_tokens=928818 num_tokens/piece=11.3262\n",
      "unigram_model_trainer.cc(505) LOG(INFO) EM sub_iter=0 size=61504 obj=14.8672 num_tokens=970693 num_tokens/piece=15.7826\n",
      "unigram_model_trainer.cc(505) LOG(INFO) EM sub_iter=1 size=61504 obj=14.8064 num_tokens=970741 num_tokens/piece=15.7834\n",
      "unigram_model_trainer.cc(505) LOG(INFO) EM sub_iter=0 size=46128 obj=15.0969 num_tokens=1015646 num_tokens/piece=22.018\n",
      "unigram_model_trainer.cc(505) LOG(INFO) EM sub_iter=1 size=46128 obj=15.0325 num_tokens=1015640 num_tokens/piece=22.0179\n",
      "unigram_model_trainer.cc(505) LOG(INFO) EM sub_iter=0 size=34596 obj=15.3566 num_tokens=1061922 num_tokens/piece=30.6949\n",
      "unigram_model_trainer.cc(505) LOG(INFO) EM sub_iter=1 size=34596 obj=15.2902 num_tokens=1061980 num_tokens/piece=30.6966\n",
      "unigram_model_trainer.cc(505) LOG(INFO) EM sub_iter=0 size=25947 obj=15.6483 num_tokens=1109858 num_tokens/piece=42.774\n",
      "unigram_model_trainer.cc(505) LOG(INFO) EM sub_iter=1 size=25947 obj=15.5758 num_tokens=1109873 num_tokens/piece=42.7746\n",
      "unigram_model_trainer.cc(505) LOG(INFO) EM sub_iter=0 size=19460 obj=15.9617 num_tokens=1160097 num_tokens/piece=59.6144\n",
      "unigram_model_trainer.cc(505) LOG(INFO) EM sub_iter=1 size=19460 obj=15.8815 num_tokens=1160116 num_tokens/piece=59.6154\n",
      "unigram_model_trainer.cc(505) LOG(INFO) EM sub_iter=0 size=14595 obj=16.3054 num_tokens=1213488 num_tokens/piece=83.1441\n",
      "unigram_model_trainer.cc(505) LOG(INFO) EM sub_iter=1 size=14595 obj=16.2136 num_tokens=1213497 num_tokens/piece=83.1447\n",
      "unigram_model_trainer.cc(505) LOG(INFO) EM sub_iter=0 size=10946 obj=16.681 num_tokens=1270864 num_tokens/piece=116.103\n",
      "unigram_model_trainer.cc(505) LOG(INFO) EM sub_iter=1 size=10946 obj=16.5699 num_tokens=1270878 num_tokens/piece=116.104\n",
      "unigram_model_trainer.cc(505) LOG(INFO) EM sub_iter=0 size=8800 obj=16.9567 num_tokens=1316176 num_tokens/piece=149.565\n",
      "unigram_model_trainer.cc(505) LOG(INFO) EM sub_iter=1 size=8800 obj=16.8726 num_tokens=1316336 num_tokens/piece=149.584\n",
      "trainer_interface.cc(615) LOG(INFO) Saving model: korean_spm.model\n",
      "trainer_interface.cc(626) LOG(INFO) Saving vocabs: korean_spm.vocab\n"
     ]
    },
    {
     "name": "stdout",
     "output_type": "stream",
     "text": [
      "-rw-r--r-- 1 root root 374640 Jun 26 04:11 korean_spm.model\r\n",
      "-rw-r--r-- 1 root root 144119 Jun 26 04:11 korean_spm.vocab\r\n"
     ]
    }
   ],
   "source": [
    "import sentencepiece as spm\n",
    "import os\n",
    "temp_file = os.getenv('HOME')+'/aiffel/sp_tokenizer/data/ratings_train.temp'\n",
    "vocab_size = 8000\n",
    "\n",
    "with open(temp_file, 'w') as f:\n",
    "    for sentence in train_data['document']:\n",
    "        f.write(str(sentence) + '\\n')\n",
    "\n",
    "spm.SentencePieceTrainer.Train(\n",
    "    '--input={} --model_prefix=korean_spm --vocab_size={}'.format(temp_file, vocab_size)    \n",
    ")\n",
    "#위 Train에서  --model_type = unigram이 디폴트 적용되어 있습니다. --model_type = bpe로 옵션을 주어 변경할 수 있습니다.\n",
    "\n",
    "!ls -l korean_spm*"
   ]
  },
  {
   "cell_type": "code",
   "execution_count": 14,
   "id": "70bd9b28",
   "metadata": {},
   "outputs": [
    {
     "name": "stdout",
     "output_type": "stream",
     "text": [
      "[1400, 10, 1704, 15, 1324, 10, 123, 17, 4]\n",
      "['▁아버지', '가', '▁방', '에', '들어', '가', '신', '다', '.']\n",
      "아버지가 방에들어가신다.\n"
     ]
    }
   ],
   "source": [
    "s = spm.SentencePieceProcessor()\n",
    "s.Load('korean_spm.model')\n",
    "\n",
    "# SentencePiece를 활용한 sentence -> encoding\n",
    "tokensIDs = s.EncodeAsIds('아버지가 방에들어가신다.')\n",
    "print(tokensIDs)\n",
    "\n",
    "# SentencePiece를 활용한 sentence -> encoded pieces\n",
    "print(s.SampleEncodeAsPieces('아버지가 방에들어가신다.',1, 0.0))\n",
    "\n",
    "# SentencePiece를 활용한 encoding -> sentence 복원\n",
    "print(s.DecodeIds(tokensIDs))"
   ]
  },
  {
   "cell_type": "code",
   "execution_count": 15,
   "id": "a983847f",
   "metadata": {},
   "outputs": [],
   "source": [
    "def load_data_spm(train_data, test_data, s):\n",
    "    train_data.drop_duplicates(subset=['document'], inplace=True)\n",
    "    train_data = train_data[train_data['document'].str.strip() != '']\n",
    "    train_data = train_data[~train_data['document'].isin(stopwords) ]\n",
    "    train_data = train_data.dropna(how = 'any') \n",
    "    test_data.drop_duplicates(subset=['document'], inplace=True)\n",
    "    test_data = test_data[test_data['document'].str.strip() != '']\n",
    "    test_data = test_data[~test_data['document'].isin(stopwords) ]\n",
    "#     test_data = test_data[test_data['document'].str.strip() not in stopwords]\n",
    "    test_data = test_data.dropna(how = 'any') \n",
    "    \n",
    "    X_train = []\n",
    "    for sentence in train_data['document']:\n",
    "        temp_X = s.EncodeAsIds(sentence)  # 토큰화\n",
    "        X_train.append(temp_X)\n",
    "\n",
    "    X_test = []\n",
    "    for sentence in test_data['document']:\n",
    "        temp_X = s.EncodeAsIds(sentence)  # 토큰화\n",
    "        X_test.append(temp_X)\n",
    "    \n",
    "    with open(\"./korean_spm.vocab\", 'r') as f:\n",
    "        vocab = f.readlines()\n",
    "\n",
    "    word_index = {}\n",
    "    index_word = {}\n",
    "\n",
    "    for idx, line in enumerate(vocab):\n",
    "        word = line.split(\"\\t\")[0]\n",
    "\n",
    "        word_index.update({word:idx})\n",
    "        index_word.update({idx:word})\n",
    "        \n",
    "    return X_train, np.array(list(train_data['label'])), X_test, np.array(list(test_data['label'])), word_to_index, index_word\n",
    "\n",
    "    \n",
    "X_train, y_train, X_test, y_test, word_to_index, index_to_word = load_data_spm(train_data, test_data, s)"
   ]
  },
  {
   "cell_type": "code",
   "execution_count": 16,
   "id": "fd92997b",
   "metadata": {},
   "outputs": [
    {
     "name": "stdout",
     "output_type": "stream",
     "text": [
      "문장길이 평균 :  16.74659560961625\n",
      "문장길이 최대 :  54\n",
      "문장길이 최소 :  1\n",
      "문장길이 표준편차 :  12.996970888774694\n"
     ]
    }
   ],
   "source": [
    "X_train = [row[-maxlen:] if len(row) > maxlen else row for row in X_train]\n",
    "X_test = [row[-maxlen:] if len(row) > maxlen else row for row in X_test]\n",
    "total_data_text = list(X_train) + list(X_test)\n",
    "# 텍스트데이터 문장길이의 리스트를 생성한 후\n",
    "num_tokens = [len(tokens) for tokens in total_data_text]\n",
    "num_tokens = np.array(num_tokens)\n",
    "# 문장길이의 평균값, 최대값, 표준편차를 계산해 본다. \n",
    "print('문장길이 평균 : ', np.mean(num_tokens))\n",
    "print('문장길이 최대 : ', np.max(num_tokens))\n",
    "print('문장길이 최소 : ', np.min(num_tokens))\n",
    "print('문장길이 표준편차 : ', np.std(num_tokens))"
   ]
  },
  {
   "cell_type": "code",
   "execution_count": 17,
   "id": "794b1fc5",
   "metadata": {},
   "outputs": [],
   "source": [
    "X_train = tf.keras.preprocessing.sequence.pad_sequences(X_train,\n",
    "                                                        value=word_to_index[\"<PAD>\"],\n",
    "                                                        padding='pre', # 혹은 'pre'\n",
    "                                                        maxlen=maxlen)\n",
    "\n",
    "X_test = tf.keras.preprocessing.sequence.pad_sequences(X_test,\n",
    "                                                       value=word_to_index[\"<PAD>\"],\n",
    "                                                       padding='pre', # 혹은 'pre'\n",
    "                                                       maxlen=maxlen)"
   ]
  },
  {
   "cell_type": "code",
   "execution_count": 18,
   "id": "6079eede",
   "metadata": {
    "scrolled": true
   },
   "outputs": [
    {
     "name": "stdout",
     "output_type": "stream",
     "text": [
      "Model: \"sequential_1\"\n",
      "_________________________________________________________________\n",
      "Layer (type)                 Output Shape              Param #   \n",
      "=================================================================\n",
      "embedding_1 (Embedding)      (None, None, 16)          128000    \n",
      "_________________________________________________________________\n",
      "bidirectional_1 (Bidirection (None, 1024)              2166784   \n",
      "_________________________________________________________________\n",
      "dense_4 (Dense)              (None, 256)               262400    \n",
      "_________________________________________________________________\n",
      "dropout_2 (Dropout)          (None, 256)               0         \n",
      "_________________________________________________________________\n",
      "dense_5 (Dense)              (None, 64)                16448     \n",
      "_________________________________________________________________\n",
      "dropout_3 (Dropout)          (None, 64)                0         \n",
      "_________________________________________________________________\n",
      "dense_6 (Dense)              (None, 16)                1040      \n",
      "_________________________________________________________________\n",
      "dense_7 (Dense)              (None, 1)                 17        \n",
      "=================================================================\n",
      "Total params: 2,574,689\n",
      "Trainable params: 2,574,689\n",
      "Non-trainable params: 0\n",
      "_________________________________________________________________\n"
     ]
    }
   ],
   "source": [
    "vocab_size = 8000    # 어휘 사전의 크기입니다(10,000개의 단어)\n",
    "word_vector_dim = 16  # 워드 벡터의 차원 수 (변경 가능한 하이퍼파라미터)\n",
    "\n",
    "# model 설계 - 딥러닝 모델 코드를 직접 작성해 주세요.\n",
    "modelLSTM_SPM = tf.keras.Sequential()\n",
    "modelLSTM_SPM.add(tf.keras.layers.Embedding(vocab_size, word_vector_dim, input_shape=(None,)))\n",
    "modelLSTM_SPM.add(tf.keras.layers.Bidirectional(tf.keras.layers.LSTM(512)))   # 가장 널리 쓰이는 RNN인 LSTM 레이어를 사용하였습니다. 이때 LSTM state 벡터의 차원수는 8로 하였습니다. (변경 가능)\n",
    "modelLSTM_SPM.add(tf.keras.layers.Dense(256, activation='relu'))\n",
    "modelLSTM_SPM.add(tf.keras.layers.Dropout(0.5))\n",
    "modelLSTM_SPM.add(tf.keras.layers.Dense(64, activation='relu'))\n",
    "modelLSTM_SPM.add(tf.keras.layers.Dropout(0.5))\n",
    "modelLSTM_SPM.add(tf.keras.layers.Dense(16, activation='relu'))\n",
    "modelLSTM_SPM.add(tf.keras.layers.Dense(1, activation='sigmoid'))  # 최종 출력은 긍정/부정을 나타내는 1dim 입니다.\n",
    "\n",
    "\n",
    "modelLSTM_SPM.summary()"
   ]
  },
  {
   "cell_type": "code",
   "execution_count": 19,
   "id": "c09d85a3",
   "metadata": {
    "scrolled": true
   },
   "outputs": [
    {
     "name": "stdout",
     "output_type": "stream",
     "text": [
      "Epoch 1/20\n",
      "245/245 [==============================] - 38s 143ms/step - loss: 0.4792 - accuracy: 0.7525 - val_loss: 0.3590 - val_accuracy: 0.8406\n",
      "Epoch 2/20\n",
      "245/245 [==============================] - 34s 137ms/step - loss: 0.3409 - accuracy: 0.8571 - val_loss: 0.3481 - val_accuracy: 0.8495\n",
      "Epoch 3/20\n",
      "245/245 [==============================] - 34s 138ms/step - loss: 0.3162 - accuracy: 0.8679 - val_loss: 0.3355 - val_accuracy: 0.8554\n",
      "Epoch 4/20\n",
      "245/245 [==============================] - 34s 139ms/step - loss: 0.2980 - accuracy: 0.8759 - val_loss: 0.3409 - val_accuracy: 0.8533\n",
      "Epoch 5/20\n",
      "245/245 [==============================] - 34s 138ms/step - loss: 0.2789 - accuracy: 0.8837 - val_loss: 0.3411 - val_accuracy: 0.8535\n",
      "Epoch 6/20\n",
      "245/245 [==============================] - 34s 138ms/step - loss: 0.2591 - accuracy: 0.8907 - val_loss: 0.3511 - val_accuracy: 0.8547\n",
      "1537/1537 - 10s - loss: 0.3471 - accuracy: 0.8488\n",
      "[0.3471109867095947, 0.8488251566886902]\n"
     ]
    }
   ],
   "source": [
    "history_spm = modelFitTemp(modelLSTM_SPM,X_train,y_train,epochs=20)\n",
    "print(modelLSTM_SPM.evaluate(X_test,  y_test, verbose=2))"
   ]
  },
  {
   "cell_type": "code",
   "execution_count": 20,
   "id": "f3d01d63",
   "metadata": {
    "scrolled": false
   },
   "outputs": [
    {
     "data": {
      "image/png": "[encoded data removed]",
      "text/plain": [
       "<Figure size 432x288 with 1 Axes>"
      ]
     },
     "metadata": {
      "needs_background": "light"
     },
     "output_type": "display_data"
    },
    {
     "data": {
      "image/png": "[encoded data removed]",
      "text/plain": [
       "<Figure size 432x288 with 1 Axes>"
      ]
     },
     "metadata": {
      "needs_background": "light"
     },
     "output_type": "display_data"
    }
   ],
   "source": [
    "drawLossAccuracy(history)"
   ]
  },
  {
   "cell_type": "code",
   "execution_count": 21,
   "id": "10d37a97",
   "metadata": {},
   "outputs": [
    {
     "data": {
      "image/png": "[encoded data removed]",
      "text/plain": [
       "<Figure size 432x288 with 1 Axes>"
      ]
     },
     "metadata": {
      "needs_background": "light"
     },
     "output_type": "display_data"
    },
    {
     "data": {
      "image/png": "[encoded data removed]",
      "text/plain": [
       "<Figure size 432x288 with 1 Axes>"
      ]
     },
     "metadata": {
      "needs_background": "light"
     },
     "output_type": "display_data"
    }
   ],
   "source": [
    "drawLossAccuracy(history_spm)"
   ]
  }
 ],
 "metadata": {
  "kernelspec": {
   "display_name": "Python 3 (ipykernel)",
   "language": "python",
   "name": "python3"
  },
  "language_info": {
   "codemirror_mode": {
    "name": "ipython",
    "version": 3
   },
   "file_extension": ".py",
   "mimetype": "text/x-python",
   "name": "python",
   "nbconvert_exporter": "python",
   "pygments_lexer": "ipython3",
   "version": "3.9.7"
  }
 },
 "nbformat": 4,
 "nbformat_minor": 5
}
